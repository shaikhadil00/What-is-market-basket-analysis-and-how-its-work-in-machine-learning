{
 "cells": [
  {
   "cell_type": "markdown",
   "id": "6fbb0988",
   "metadata": {},
   "source": [
    "# Market Basket Analysis (MBA) is a data mining technique"
   ]
  },
  {
   "cell_type": "code",
   "execution_count": null,
   "id": "336cac45",
   "metadata": {},
   "outputs": [],
   "source": [
    "used by retailers to understand customer purchasing patterns by analyzing transaction detail\n",
    "\n",
    "It identifies items that are frequently bought together,\n",
    "\n",
    "helping businesses make informed decisions about product placement, cross-selling, and marketing strategies"
   ]
  },
  {
   "cell_type": "markdown",
   "id": "de533ba1",
   "metadata": {},
   "source": [
    "# For Example"
   ]
  },
  {
   "cell_type": "code",
   "execution_count": null,
   "id": "f8363d54",
   "metadata": {},
   "outputs": [],
   "source": [
    "if customers often buy bread and butter together, a store might place these items near each other to encourage additional sales\n",
    "\n",
    "MBA typically uses algorithms like the Apriori algorithm\n",
    "\n",
    "to uncover these associations and generate rules that predict customer behavior"
   ]
  },
  {
   "cell_type": "markdown",
   "id": "8ce7972e",
   "metadata": {},
   "source": [
    "# How It's work"
   ]
  },
  {
   "cell_type": "code",
   "execution_count": 1,
   "id": "47b6482f",
   "metadata": {},
   "outputs": [
    {
     "name": "stderr",
     "output_type": "stream",
     "text": [
      "WARNING: Ignoring invalid distribution -ensorflow-intel (c:\\users\\adil shaikh\\anaconda3\\lib\\site-packages)"
     ]
    },
    {
     "name": "stdout",
     "output_type": "stream",
     "text": [
      "Collecting mlxtend\n",
      "  Downloading mlxtend-0.23.2-py3-none-any.whl.metadata (7.3 kB)\n",
      "Requirement already satisfied: scipy>=1.2.1 in c:\\users\\adil shaikh\\anaconda3\\lib\\site-packages (from mlxtend) (1.12.0)\n",
      "Requirement already satisfied: numpy>=1.16.2 in c:\\users\\adil shaikh\\anaconda3\\lib\\site-packages (from mlxtend) (1.24.4)\n",
      "Requirement already satisfied: pandas>=0.24.2 in c:\\users\\adil shaikh\\anaconda3\\lib\\site-packages (from mlxtend) (2.2.1)\n",
      "Requirement already satisfied: scikit-learn>=1.3.1 in c:\\users\\adil shaikh\\anaconda3\\lib\\site-packages (from mlxtend) (1.4.1.post1)\n",
      "Requirement already satisfied: matplotlib>=3.0.0 in c:\\users\\adil shaikh\\anaconda3\\lib\\site-packages (from mlxtend) (3.8.3)\n",
      "Requirement already satisfied: joblib>=0.13.2 in c:\\users\\adil shaikh\\anaconda3\\lib\\site-packages (from mlxtend) (1.3.2)\n",
      "Requirement already satisfied: contourpy>=1.0.1 in c:\\users\\adil shaikh\\anaconda3\\lib\\site-packages (from matplotlib>=3.0.0->mlxtend) (1.2.0)\n",
      "Requirement already satisfied: cycler>=0.10 in c:\\users\\adil shaikh\\anaconda3\\lib\\site-packages (from matplotlib>=3.0.0->mlxtend) (0.11.0)\n",
      "Requirement already satisfied: fonttools>=4.22.0 in c:\\users\\adil shaikh\\anaconda3\\lib\\site-packages (from matplotlib>=3.0.0->mlxtend) (4.25.0)\n",
      "Requirement already satisfied: kiwisolver>=1.3.1 in c:\\users\\adil shaikh\\anaconda3\\lib\\site-packages (from matplotlib>=3.0.0->mlxtend) (1.4.2)\n",
      "Requirement already satisfied: packaging>=20.0 in c:\\users\\adil shaikh\\anaconda3\\lib\\site-packages (from matplotlib>=3.0.0->mlxtend) (21.3)\n",
      "Requirement already satisfied: pillow>=8 in c:\\users\\adil shaikh\\anaconda3\\lib\\site-packages (from matplotlib>=3.0.0->mlxtend) (9.2.0)\n",
      "Requirement already satisfied: pyparsing>=2.3.1 in c:\\users\\adil shaikh\\anaconda3\\lib\\site-packages (from matplotlib>=3.0.0->mlxtend) (3.0.9)\n",
      "Requirement already satisfied: python-dateutil>=2.7 in c:\\users\\adil shaikh\\anaconda3\\lib\\site-packages (from matplotlib>=3.0.0->mlxtend) (2.8.2)\n",
      "Requirement already satisfied: importlib-resources>=3.2.0 in c:\\users\\adil shaikh\\anaconda3\\lib\\site-packages (from matplotlib>=3.0.0->mlxtend) (6.1.3)\n",
      "Requirement already satisfied: pytz>=2020.1 in c:\\users\\adil shaikh\\anaconda3\\lib\\site-packages (from pandas>=0.24.2->mlxtend) (2022.1)\n",
      "Requirement already satisfied: tzdata>=2022.7 in c:\\users\\adil shaikh\\anaconda3\\lib\\site-packages (from pandas>=0.24.2->mlxtend) (2024.1)\n",
      "Requirement already satisfied: threadpoolctl>=2.0.0 in c:\\users\\adil shaikh\\anaconda3\\lib\\site-packages (from scikit-learn>=1.3.1->mlxtend) (2.2.0)\n",
      "Requirement already satisfied: zipp>=3.1.0 in c:\\users\\adil shaikh\\anaconda3\\lib\\site-packages (from importlib-resources>=3.2.0->matplotlib>=3.0.0->mlxtend) (3.8.0)\n",
      "Requirement already satisfied: six>=1.5 in c:\\users\\adil shaikh\\anaconda3\\lib\\site-packages (from python-dateutil>=2.7->matplotlib>=3.0.0->mlxtend) (1.16.0)\n",
      "Downloading mlxtend-0.23.2-py3-none-any.whl (1.4 MB)\n",
      "   ---------------------------------------- 1.4/1.4 MB 3.7 MB/s eta 0:00:00\n",
      "Installing collected packages: mlxtend\n",
      "Successfully installed mlxtend-0.23.2\n"
     ]
    },
    {
     "name": "stderr",
     "output_type": "stream",
     "text": [
      "\n",
      "WARNING: Ignoring invalid distribution -ensorflow-intel (c:\\users\\adil shaikh\\anaconda3\\lib\\site-packages)\n",
      "WARNING: Ignoring invalid distribution -ensorflow-intel (c:\\users\\adil shaikh\\anaconda3\\lib\\site-packages)\n"
     ]
    }
   ],
   "source": [
    "# Install the necessary library\n",
    "!pip install mlxtend"
   ]
  },
  {
   "cell_type": "code",
   "execution_count": 12,
   "id": "3e72b8d7",
   "metadata": {},
   "outputs": [
    {
     "name": "stdout",
     "output_type": "stream",
     "text": [
      "Frequent Itemsets:\n",
      "   support               itemsets\n",
      "0      0.8                (Bread)\n",
      "1      0.6               (Butter)\n",
      "2      0.6                 (Milk)\n",
      "3      0.4        (Butter, Bread)\n",
      "4      0.4          (Milk, Bread)\n",
      "5      0.4         (Milk, Butter)\n",
      "6      0.2  (Milk, Butter, Bread)\n",
      "\n",
      "Association Rules:\n",
      "      antecedents      consequents  support  confidence      lift\n",
      "0        (Butter)          (Bread)      0.4    0.666667  0.833333\n",
      "1          (Milk)          (Bread)      0.4    0.666667  0.833333\n",
      "2          (Milk)         (Butter)      0.4    0.666667  1.111111\n",
      "3          (Milk)  (Butter, Bread)      0.2    0.333333  0.833333\n",
      "4  (Milk, Butter)          (Bread)      0.2    0.500000  0.625000\n"
     ]
    },
    {
     "name": "stderr",
     "output_type": "stream",
     "text": [
      "C:\\Users\\ADIL SHAIKH\\AppData\\Local\\Temp\\ipykernel_41724\\2375613772.py:12: FutureWarning: DataFrame.applymap has been deprecated. Use DataFrame.map instead.\n",
      "  basket = basket.applymap(lambda x: 1 if x > 0 else 0)\n",
      "C:\\Users\\ADIL SHAIKH\\Anaconda3\\lib\\site-packages\\mlxtend\\frequent_patterns\\fpcommon.py:161: DeprecationWarning: DataFrames with non-bool types result in worse computationalperformance and their support might be discontinued in the future.Please use a DataFrame with bool type\n",
      "  warnings.warn(\n"
     ]
    }
   ],
   "source": [
    "# Import libraries\n",
    "import pandas as pd\n",
    "from mlxtend.frequent_patterns import apriori, association_rules\n",
    "\n",
    "# Sample data: Create a DataFrame with transaction data\n",
    "data = {'Transaction': [1, 1, 1, 2, 2, 3, 3, 4, 4, 5],\n",
    "        'Item': ['Bread', 'Butter', 'Milk', 'Bread', 'Milk', 'Bread', 'Butter', 'Butter', 'Milk', 'Bread']}\n",
    "df = pd.DataFrame(data)\n",
    "\n",
    "# Convert transaction data to a basket format\n",
    "basket = df.groupby(['Transaction', 'Item'])['Item'].count().unstack().reset_index().fillna(0).set_index('Transaction')\n",
    "basket = basket.applymap(lambda x: 1 if x > 0 else 0)\n",
    "\n",
    "# Apply the Apriori algorithm to identify frequent itemsets\n",
    "frequent_itemsets = apriori(basket, min_support=0.2, use_colnames=True)\n",
    "\n",
    "# Manually compute association rules\n",
    "rules_list = []\n",
    "\n",
    "for i in range(len(frequent_itemsets)):\n",
    "    itemset = frequent_itemsets.iloc[i]['itemsets']\n",
    "    support = frequent_itemsets.iloc[i]['support']\n",
    "    \n",
    "    for j in range(1, len(itemset)):\n",
    "        antecedents = frozenset([list(itemset)[k] for k in range(j)])\n",
    "        consequents = itemset - antecedents\n",
    "        if len(consequents) > 0:\n",
    "            antecedent_support = frequent_itemsets[frequent_itemsets['itemsets'] == antecedents]['support'].values\n",
    "            if len(antecedent_support) > 0:\n",
    "                conf = support / antecedent_support[0]\n",
    "                consequent_support = frequent_itemsets[frequent_itemsets['itemsets'] == consequents]['support'].values\n",
    "                if len(consequent_support) > 0:\n",
    "                    lift = conf / consequent_support[0]\n",
    "                    rules_list.append({'antecedents': antecedents, 'consequents': consequents, 'support': support, 'confidence': conf, 'lift': lift})\n",
    "\n",
    "rules = pd.DataFrame(rules_list)\n",
    "\n",
    "# Display the results\n",
    "print(\"Frequent Itemsets:\")\n",
    "print(frequent_itemsets)\n",
    "print(\"\\nAssociation Rules:\")\n",
    "print(rules)\n"
   ]
  },
  {
   "cell_type": "code",
   "execution_count": null,
   "id": "0a6b5f40",
   "metadata": {},
   "outputs": [],
   "source": [
    "Here’s an overview of what the code does:\n",
    "\n",
    "Install the necessary library: Ensure that mlxtend is installed.\n",
    "\n",
    "Import libraries: Import the required libraries (pandas and mlxtend.frequent_patterns).\n",
    "\n",
    "Sample data: Create a sample DataFrame with transaction data.\n",
    "\n",
    "Convert transaction data to a basket format: Transform the data into a format suitable for the Apriori algorithm, \n",
    "where each row represents a transaction, and each column represents an item.\n",
    "\n",
    "Apply the Apriori algorithm: Identify frequent itemsets with a minimum support threshold.\n",
    "\n",
    "Manually compute association rules: Generate association rules by manually calculating support, \n",
    "confidence, and lift for each itemset.\n",
    "\n",
    "Display the results: Print the frequent itemsets and association rules."
   ]
  },
  {
   "cell_type": "code",
   "execution_count": null,
   "id": "17fc488c",
   "metadata": {},
   "outputs": [],
   "source": [
    "Let's break down the output you're seeing:\n",
    "\n",
    "Frequent Itemsets\n",
    "The frequent itemsets are combinations of items that appear frequently together in transactions. \n",
    "Here’s what each column represents:\n",
    "\n",
    "Support: The proportion of transactions that contain the itemset.\n",
    "\n",
    "Itemsets: The combination of items that appear together.\n",
    "\n",
    "For example:\n",
    "\n",
    "(Bread) has a support of 0.8, meaning 80% of transactions contain Bread.\n",
    "\n",
    "(Butter, Bread) has a support of 0.4, meaning 40% of transactions contain both Butter and Bread.\n",
    "\n",
    "Association Rules\n",
    "The association rules provide insights into the relationships between items. Here’s what each column represents:\n",
    "\n",
    "Antecedents: The item(s) on the left-hand side of the rule (if-portion).\n",
    "\n",
    "Consequents: The item(s) on the right-hand side of the rule (then-portion).\n",
    "\n",
    "Support: The proportion of transactions that contain both the antecedent and consequent.\n",
    "\n",
    "Confidence: The probability that the consequent is purchased when the antecedent is purchased.\n",
    "\n",
    "Lift: The ratio of the observed support to the expected support if the antecedent and consequent were independent.\n",
    "\n",
    "For example:\n",
    "\n",
    "Rule: (Butter) -> (Bread)\n",
    "\n",
    "Support: 0.4 (40% of transactions contain both Butter and Bread)\n",
    "\n",
    "Confidence: 0.666667 (If a transaction contains Butter, there is a 66.67% chance it also contains Bread)\n",
    "\n",
    "Lift: 0.833333 (Bread is 0.83 times as likely to be bought with Butter than it would be by random chance)\n",
    "\n",
    "Rule: (Milk) -> (Bread)\n",
    "\n",
    "Support: 0.4 (40% of transactions contain both Milk and Bread)\n",
    "\n",
    "Confidence: 0.666667 (If a transaction contains Milk, there is a 66.67% chance it also contains Bread)\n",
    "\n",
    "Lift: 0.833333 (Bread is 0.83 times as likely to be bought with Milk than it would be by random chance)\n",
    "\n",
    "Rule: (Milk) -> (Butter)\n",
    "\n",
    "Support: 0.4 (40% of transactions contain both Milk and Butter)\n",
    "\n",
    "Confidence: 0.666667 (If a transaction contains Milk, there is a 66.67% chance it also contains Butter)\n",
    "\n",
    "Lift: 1.111111 (Butter is 1.11 times as likely to be bought with Milk than it would be by random chance)\n",
    "\n",
    "Rule: (Milk) -> (Butter, Bread)\n",
    "\n",
    "Support: 0.2 (20% of transactions contain Milk, Butter, and Bread)\n",
    "\n",
    "Confidence: 0.333333 (If a transaction contains Milk, there is a 33.33% chance it also contains both Butter and Bread)\n",
    "\n",
    "Lift: 0.833333 (Milk, Butter, and Bread are 0.83 times as likely to be bought together than they would be by random chance)\n",
    "\n",
    "Rule: (Milk, Butter) -> (Bread)\n",
    "\n",
    "Support: 0.2 (20% of transactions contain Milk, Butter, and Bread)\n",
    "\n",
    "Confidence: 0.5 (If a transaction contains both Milk and Butter, there is a 50% chance it also contains Bread)\n",
    "\n",
    "Lift: 0.625 (Bread is 0.625 times as likely to be bought with Milk and Butter than it would be by random chance)\n",
    "\n",
    "Summary\n",
    "Support tells us how frequently the itemsets appear in the transactions.\n",
    "\n",
    "Confidence tells us the likelihood of the consequent item(s) being bought when the antecedent item(s) are bought.\n",
    "\n",
    "Lift tells us how much more likely the consequent item(s) are to be bought together with the antecedent item(s)\n",
    "than by random chance.\n",
    "\n",
    "The association rules help businesses understand which items are likely to be bought together, \n",
    "aiding in product placement, cross-selling, and marketing strategies"
   ]
  },
  {
   "cell_type": "markdown",
   "id": "57bfc0bc",
   "metadata": {},
   "source": [
    "# Hence we conclude here"
   ]
  }
 ],
 "metadata": {
  "kernelspec": {
   "display_name": "Python 3 (ipykernel)",
   "language": "python",
   "name": "python3"
  },
  "language_info": {
   "codemirror_mode": {
    "name": "ipython",
    "version": 3
   },
   "file_extension": ".py",
   "mimetype": "text/x-python",
   "name": "python",
   "nbconvert_exporter": "python",
   "pygments_lexer": "ipython3",
   "version": "3.9.13"
  }
 },
 "nbformat": 4,
 "nbformat_minor": 5
}
